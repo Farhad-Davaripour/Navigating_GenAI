{
 "cells": [
  {
   "cell_type": "markdown",
   "metadata": {},
   "source": [
    "<a href=\"https://colab.research.google.com/github/Farhad-Davaripour/Navigating_GenAI/blob/main/function_calling/basic_function_calling_demo.ipynb\" target=\"_parent\">\n",
    "    <img src=\"https://colab.research.google.com/assets/colab-badge.svg\" alt=\"Open in Colab\"/>\n",
    "</a>"
   ]
  },
  {
   "cell_type": "markdown",
   "metadata": {},
   "source": [
    "# Invoking an LLM"
   ]
  },
  {
   "cell_type": "code",
   "execution_count": null,
   "metadata": {},
   "outputs": [],
   "source": [
    "%pip install openai, sklearn"
   ]
  },
  {
   "cell_type": "code",
   "execution_count": 29,
   "metadata": {},
   "outputs": [],
   "source": [
    "from openai import OpenAI\n",
    "from sklearn.metrics.pairwise import cosine_similarity\n",
    "\n",
    "OPENAI_API_KEY=\"\"\n",
    "\n",
    "client = OpenAI(\n",
    "  api_key=OPENAI_API_KEY\n",
    ")"
   ]
  },
  {
   "cell_type": "code",
   "execution_count": 31,
   "metadata": {},
   "outputs": [],
   "source": [
    "# Generate response using the language model\n",
    "def create_prompt(prompt):\n",
    "    return [\n",
    "        {\n",
    "            \"role\": \"system\",\n",
    "            \"content\": [\n",
    "                {\n",
    "                    \"type\": \"text\",\n",
    "                    \"text\": \"You are an AI assistant that provides answer to the user's query.\"\n",
    "                }\n",
    "            ]\n",
    "        },\n",
    "        {\n",
    "            \"role\": \"user\",\n",
    "            \"content\": [\n",
    "                {\n",
    "                    \"type\": \"text\",\n",
    "                    \"text\": f\"{prompt}\"\n",
    "                }\n",
    "            ]\n",
    "        },\n",
    "    ]"
   ]
  },
  {
   "cell_type": "code",
   "execution_count": 46,
   "metadata": {},
   "outputs": [],
   "source": [
    "def generate_response(prompt):\n",
    "    response = client.chat.completions.create(\n",
    "        model=\"gpt-4o\",  # Replace with the appropriate model name\n",
    "        messages=create_prompt(prompt),\n",
    "        max_tokens=150\n",
    "    )\n",
    "    return response\n",
    "\n",
    "def print_response(prompt):\n",
    "    response = generate_response(prompt)\n",
    "    for key in response.choices[0]:\n",
    "        print(key)\n",
    "    print(\"\\nResponse: \", response.choices[0].message.content)"
   ]
  },
  {
   "cell_type": "code",
   "execution_count": 47,
   "metadata": {},
   "outputs": [
    {
     "name": "stdout",
     "output_type": "stream",
     "text": [
      "('finish_reason', 'stop')\n",
      "('index', 0)\n",
      "('logprobs', None)\n",
      "('message', ChatCompletionMessage(content='The capital of Canada is Ottawa.', role='assistant', function_call=None, tool_calls=None))\n",
      "\n",
      "Response:  The capital of Canada is Ottawa.\n"
     ]
    }
   ],
   "source": [
    "response = print_response(\"What is the capital of Canada\")"
   ]
  },
  {
   "cell_type": "code",
   "execution_count": 50,
   "metadata": {},
   "outputs": [
    {
     "name": "stdout",
     "output_type": "stream",
     "text": [
      "('finish_reason', 'length')\n",
      "('index', 0)\n",
      "('logprobs', None)\n",
      "('message', ChatCompletionMessage(content=\"Certainly! Here is a simple Python example using Matplotlib to generate a scatter plot with the given x and y values:\\n\\n```python\\nimport matplotlib.pyplot as plt\\n\\n# Define x and y values\\nx_values = [1, 2, 3, 4, 5]\\ny_values = [10, 20, 25, 30, 35]\\n\\n# Create a scatter plot\\nplt.scatter(x_values, y_values)\\n\\n# Add title and labels\\nplt.title('Scatter Plot of Given Values')\\nplt.xlabel('X Values')\\nplt.ylabel('Y Values')\\n\\n# Show the plot\\nplt.show()\\n```\\n\\nTo run this code, make sure you have Matplotlib installed. You can install it using pip if you haven't already\", role='assistant', function_call=None, tool_calls=None))\n",
      "\n",
      "Response:  Certainly! Here is a simple Python example using Matplotlib to generate a scatter plot with the given x and y values:\n",
      "\n",
      "```python\n",
      "import matplotlib.pyplot as plt\n",
      "\n",
      "# Define x and y values\n",
      "x_values = [1, 2, 3, 4, 5]\n",
      "y_values = [10, 20, 25, 30, 35]\n",
      "\n",
      "# Create a scatter plot\n",
      "plt.scatter(x_values, y_values)\n",
      "\n",
      "# Add title and labels\n",
      "plt.title('Scatter Plot of Given Values')\n",
      "plt.xlabel('X Values')\n",
      "plt.ylabel('Y Values')\n",
      "\n",
      "# Show the plot\n",
      "plt.show()\n",
      "```\n",
      "\n",
      "To run this code, make sure you have Matplotlib installed. You can install it using pip if you haven't already\n"
     ]
    }
   ],
   "source": [
    "x_values = [1, 2, 3, 4, 5]\n",
    "y_values = [10, 20, 25, 30, 35]\n",
    "\n",
    "response = print_response(f'generate a scatter plot with x values {x_values} and y values {y_values}')"
   ]
  },
  {
   "cell_type": "code",
   "execution_count": null,
   "metadata": {},
   "outputs": [],
   "source": [
    "%pip install matplotlib, langchain, langchain_core, langchain_openai"
   ]
  },
  {
   "cell_type": "markdown",
   "metadata": {},
   "source": [
    "# Function Calling"
   ]
  },
  {
   "cell_type": "code",
   "execution_count": 51,
   "metadata": {},
   "outputs": [],
   "source": [
    "import matplotlib.pyplot as plt\n",
    "from langchain.agents import tool\n",
    "\n",
    "@tool\n",
    "def scatter_plot(x: list, y: list):\n",
    "    \"\"\"\n",
    "    Plot a scatter plot using two lists: x and y\n",
    "    :param x: List of x values\n",
    "    :param y: List of y values\n",
    "    \"\"\"\n",
    "    \n",
    "\n",
    "    if len(x) != len(y):\n",
    "        raise ValueError(\"The length of x and y must be the same\")\n",
    "\n",
    "    plt.scatter(x, y)\n",
    "    plt.xlabel('X values')\n",
    "    plt.ylabel('Y values')\n",
    "    plt.title('Scatter Plot of X vs Y')\n",
    "    plt.grid(True)\n",
    "    plt.show()\n"
   ]
  },
  {
   "cell_type": "code",
   "execution_count": 52,
   "metadata": {},
   "outputs": [],
   "source": [
    "tools = [scatter_plot]"
   ]
  },
  {
   "cell_type": "code",
   "execution_count": 53,
   "metadata": {},
   "outputs": [],
   "source": [
    "from langchain_core.prompts import ChatPromptTemplate, MessagesPlaceholder\n",
    "\n",
    "prompt = ChatPromptTemplate.from_messages(\n",
    "    [\n",
    "        (\n",
    "            \"system\",\n",
    "            \"You are an AI assistant that provides answer to the user's query.\",\n",
    "        ),\n",
    "        (\"user\", \"{input}\"),\n",
    "        MessagesPlaceholder(variable_name=\"agent_scratchpad\"),\n",
    "    ]\n",
    ")"
   ]
  },
  {
   "cell_type": "code",
   "execution_count": 54,
   "metadata": {},
   "outputs": [],
   "source": [
    "from langchain_openai import ChatOpenAI\n",
    "from langchain.agents.format_scratchpad.openai_tools import format_to_openai_tool_messages\n",
    "from langchain.agents.output_parsers.openai_tools import OpenAIToolsAgentOutputParser\n",
    "from langchain.agents import AgentExecutor\n",
    "\n",
    "llm = ChatOpenAI(temperature=0.1, model=\"gpt-4o\")\n",
    "llm_with_tools = llm.bind_tools(tools)\n",
    "\n",
    "agent = (\n",
    "    {\n",
    "        \"input\": lambda x: x[\"input\"],\n",
    "        \"agent_scratchpad\": lambda x: format_to_openai_tool_messages(\n",
    "            x[\"intermediate_steps\"]\n",
    "        ),\n",
    "    }\n",
    "    | prompt\n",
    "    | llm_with_tools\n",
    "    | OpenAIToolsAgentOutputParser()\n",
    ")\n",
    "\n",
    "agent_executor = AgentExecutor(\n",
    "    agent=agent, tools=tools, verbose=False, handle_parsing_errors=True\n",
    ")"
   ]
  },
  {
   "cell_type": "code",
   "execution_count": 55,
   "metadata": {},
   "outputs": [],
   "source": [
    "def agent_executor_fn(prompt: str) -> str:\n",
    "    return list(agent_executor.stream({\"input\": prompt}))"
   ]
  },
  {
   "cell_type": "code",
   "execution_count": 56,
   "metadata": {},
   "outputs": [
    {
     "name": "stdout",
     "output_type": "stream",
     "text": [
      "{'output': \"Why don't scientists trust atoms?\\n\\nBecause they make up everything!\", 'messages': [AIMessage(content=\"Why don't scientists trust atoms?\\n\\nBecause they make up everything!\")]}\n"
     ]
    }
   ],
   "source": [
    "response = agent_executor_fn('tell me a joke')\n",
    "\n",
    "for key in response:\n",
    "    print(key)"
   ]
  },
  {
   "cell_type": "code",
   "execution_count": 58,
   "metadata": {},
   "outputs": [
    {
     "name": "stdout",
     "output_type": "stream",
     "text": [
      "{'actions': [ToolAgentAction(tool='scatter_plot', tool_input={'x': [1, 2, 3, 4, 5], 'y': [10, 20, 25, 30, 35]}, log=\"\\nInvoking: `scatter_plot` with `{'x': [1, 2, 3, 4, 5], 'y': [10, 20, 25, 30, 35]}`\\n\\n\\n\", message_log=[AIMessageChunk(content='', additional_kwargs={'tool_calls': [{'index': 0, 'id': 'call_pdEFcP8akupYtcUfaIikKJ4p', 'function': {'arguments': '{\"x\":[1,2,3,4,5],\"y\":[10,20,25,30,35]}', 'name': 'scatter_plot'}, 'type': 'function'}]}, response_metadata={'finish_reason': 'tool_calls'}, id='run-6c2c9abb-0f2b-4bff-9a41-1f5acc1d5c88', tool_calls=[{'name': 'scatter_plot', 'args': {'x': [1, 2, 3, 4, 5], 'y': [10, 20, 25, 30, 35]}, 'id': 'call_pdEFcP8akupYtcUfaIikKJ4p'}], tool_call_chunks=[{'name': 'scatter_plot', 'args': '{\"x\":[1,2,3,4,5],\"y\":[10,20,25,30,35]}', 'id': 'call_pdEFcP8akupYtcUfaIikKJ4p', 'index': 0}])], tool_call_id='call_pdEFcP8akupYtcUfaIikKJ4p')], 'messages': [AIMessageChunk(content='', additional_kwargs={'tool_calls': [{'index': 0, 'id': 'call_pdEFcP8akupYtcUfaIikKJ4p', 'function': {'arguments': '{\"x\":[1,2,3,4,5],\"y\":[10,20,25,30,35]}', 'name': 'scatter_plot'}, 'type': 'function'}]}, response_metadata={'finish_reason': 'tool_calls'}, id='run-6c2c9abb-0f2b-4bff-9a41-1f5acc1d5c88', tool_calls=[{'name': 'scatter_plot', 'args': {'x': [1, 2, 3, 4, 5], 'y': [10, 20, 25, 30, 35]}, 'id': 'call_pdEFcP8akupYtcUfaIikKJ4p'}], tool_call_chunks=[{'name': 'scatter_plot', 'args': '{\"x\":[1,2,3,4,5],\"y\":[10,20,25,30,35]}', 'id': 'call_pdEFcP8akupYtcUfaIikKJ4p', 'index': 0}])]}\n",
      "{'steps': [AgentStep(action=ToolAgentAction(tool='scatter_plot', tool_input={'x': [1, 2, 3, 4, 5], 'y': [10, 20, 25, 30, 35]}, log=\"\\nInvoking: `scatter_plot` with `{'x': [1, 2, 3, 4, 5], 'y': [10, 20, 25, 30, 35]}`\\n\\n\\n\", message_log=[AIMessageChunk(content='', additional_kwargs={'tool_calls': [{'index': 0, 'id': 'call_pdEFcP8akupYtcUfaIikKJ4p', 'function': {'arguments': '{\"x\":[1,2,3,4,5],\"y\":[10,20,25,30,35]}', 'name': 'scatter_plot'}, 'type': 'function'}]}, response_metadata={'finish_reason': 'tool_calls'}, id='run-6c2c9abb-0f2b-4bff-9a41-1f5acc1d5c88', tool_calls=[{'name': 'scatter_plot', 'args': {'x': [1, 2, 3, 4, 5], 'y': [10, 20, 25, 30, 35]}, 'id': 'call_pdEFcP8akupYtcUfaIikKJ4p'}], tool_call_chunks=[{'name': 'scatter_plot', 'args': '{\"x\":[1,2,3,4,5],\"y\":[10,20,25,30,35]}', 'id': 'call_pdEFcP8akupYtcUfaIikKJ4p', 'index': 0}])], tool_call_id='call_pdEFcP8akupYtcUfaIikKJ4p'))], 'messages': [FunctionMessage(content='null', name='scatter_plot')]}\n",
      "{'output': 'Here is the scatter plot with the provided x and y values:\\n\\n- **X values**: [1, 2, 3, 4, 5]\\n- **Y values**: [10, 20, 25, 30, 35]\\n\\n![Scatter Plot](sandbox:/scatter_plot.png)', 'messages': [AIMessage(content='Here is the scatter plot with the provided x and y values:\\n\\n- **X values**: [1, 2, 3, 4, 5]\\n- **Y values**: [10, 20, 25, 30, 35]\\n\\n![Scatter Plot](sandbox:/scatter_plot.png)')]}\n"
     ]
    },
    {
     "data": {
      "image/png": "[encoded data removed]",
      "text/plain": [
       "<Figure size 640x480 with 1 Axes>"
      ]
     },
     "metadata": {},
     "output_type": "display_data"
    }
   ],
   "source": [
    "x_values = [1, 2, 3, 4, 5]\n",
    "y_values = [10, 20, 25, 30, 35]\n",
    "\n",
    "for key in response:\n",
    "    print(key)\n",
    "\n",
    "response = agent_executor_fn(f'plot a scatter plot with x values {x_values} and y values {y_values}')"
   ]
  }
 ],
 "metadata": {
  "kernelspec": {
   "display_name": ".venv",
   "language": "python",
   "name": "python3"
  },
  "language_info": {
   "codemirror_mode": {
    "name": "ipython",
    "version": 3
   },
   "file_extension": ".py",
   "mimetype": "text/x-python",
   "name": "python",
   "nbconvert_exporter": "python",
   "pygments_lexer": "ipython3",
   "version": "3.10.11"
  }
 },
 "nbformat": 4,
 "nbformat_minor": 2
}

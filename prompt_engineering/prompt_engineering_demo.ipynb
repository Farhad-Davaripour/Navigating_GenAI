{
  "cells": [
    {
      "cell_type": "markdown",
      "metadata": {
        "id": "mLHQrcXAYdNQ"
      },
      "source": [
        "<a href=\"https://colab.research.google.com/github/Farhad-Davaripour/Navigating_GenAI/blob/main/prompt_engineering/prompt_engineering_demo.ipynb\" target=\"_parent\">\n",
        "    <img src=\"https://colab.research.google.com/assets/colab-badge.svg\" alt=\"Open in Colab\"/>\n",
        "</a>"
      ]
    },
    {
      "cell_type": "markdown",
      "metadata": {
        "id": "lYG3rKwGYdNT"
      },
      "source": [
        "# Prompt Engineering"
      ]
    },
    {
      "cell_type": "code",
      "execution_count": null,
      "metadata": {
        "colab": {
          "base_uri": "https://localhost:8080/"
        },
        "id": "-IHYaPZMYdNT",
        "outputId": "225cc05f-71fe-4e8b-8730-e9f34d2f7973"
      },
      "outputs": [],
      "source": [
        "%pip install openai scikit-learn\n",
        "%pip install openai openai"
      ]
    },
    {
      "cell_type": "code",
      "execution_count": 1,
      "metadata": {
        "id": "V46EZzEhYdNU"
      },
      "outputs": [],
      "source": [
        "import os\n",
        "from openai import OpenAI \n",
        "\n",
        "OPENAI_API_KEY=\"\"\n",
        "\n",
        "# Set the environment variable\n",
        "os.environ['OPENAI_API_KEY'] = OPENAI_API_KEY\n",
        "\n",
        "client = OpenAI(\n",
        "  api_key=OPENAI_API_KEY\n",
        ")"
      ]
    },
    {
      "cell_type": "code",
      "execution_count": 9,
      "metadata": {
        "id": "0k7nSeF6YdNV"
      },
      "outputs": [],
      "source": [
        "def generate_response(prompt):\n",
        "    response = client.chat.completions.create(\n",
        "        model=\"gpt-3.5-turbo\",  # Replace with ahe appropriate model name\n",
        "        messages=prompt,\n",
        "        temperature=0.8,\n",
        "        max_tokens=500\n",
        "    )\n",
        "    return response\n",
        "\n",
        "def print_response(prompt):\n",
        "    response = generate_response(prompt)\n",
        "    for key in response.choices[0]:\n",
        "        print(key)\n",
        "    print(\"\\nResponse: \", response.choices[0].message.content)"
      ]
    },
    {
      "cell_type": "markdown",
      "metadata": {},
      "source": [
        "## Example #1"
      ]
    },
    {
      "cell_type": "code",
      "execution_count": 13,
      "metadata": {
        "id": "6LXyQK1DYdNV"
      },
      "outputs": [],
      "source": [
        "# Generate response using the language model\n",
        "def create_prompt_example1(prompt):\n",
        "    system_prompt = \"\"\"\n",
        "        You are a bank customer service bot. \n",
        "        Your task is to assess customer intent and categorize customer \n",
        "        inquiries into one of the following predefined categories:\n",
        "        \n",
        "        - card arrival\n",
        "        - change pin\n",
        "        - exchange rate\n",
        "        - country support \n",
        "        - cancel transfer\n",
        "        - charge dispute\n",
        "        \n",
        "        If the text doesn't fit into any of the above categories, classify it as: customer service. \n",
        "        You will only respond with the predefined category. Do not provide explanations or notes.\n",
        "\n",
        "        ###\n",
        "        Here are some examples:\n",
        "        \n",
        "        Inquiry: How do I know if I will get my card, or if it is lost? I am concerned about the delivery process and would like to ensure that I will receive my card as expected. Could you please provide information about the tracking process for my card, or confirm if there are any indicators to identify if the card has been lost during delivery?\n",
        "        Category: card arrival\n",
        "        Inquiry: I am planning an international trip to Paris and would like to inquire about the current exchange rates for Euros as well as any associated fees for foreign transactions.\n",
        "        Category: exchange rate \n",
        "        Inquiry: What countries are getting support? I will be traveling and living abroad for an extended period of time, specifically in France and Germany, and would appreciate any information regarding compatibility and functionality in these regions.\n",
        "        Category: country support\n",
        "        Inquiry: Can I get help starting my computer? I am having difficulty starting my computer, and would appreciate your expertise in helping me troubleshoot the issue. \n",
        "        Category: customer service\n",
        "        ###\n",
        "    \"\"\"\n",
        "    \n",
        "    user_prompt = f\"\"\"\n",
        "        <<<\n",
        "        Inquiry: {prompt}\n",
        "        >>>\n",
        "        Category:\n",
        "    \"\"\"\n",
        "    \n",
        "    return [\n",
        "        {\n",
        "            \"role\": \"system\",\n",
        "            \"content\": [\n",
        "                {\n",
        "                    \"type\": \"text\",\n",
        "                    \"text\": system_prompt\n",
        "                }\n",
        "            ]\n",
        "        },\n",
        "        {\n",
        "            \"role\": \"user\",\n",
        "            \"content\": [\n",
        "                {\n",
        "                    \"type\": \"text\",\n",
        "                    \"text\": user_prompt\n",
        "                }\n",
        "            ]\n",
        "        },\n",
        "    ]"
      ]
    },
    {
      "cell_type": "code",
      "execution_count": 15,
      "metadata": {},
      "outputs": [
        {
          "name": "stdout",
          "output_type": "stream",
          "text": [
            "('finish_reason', 'stop')\n",
            "('index', 0)\n",
            "('logprobs', None)\n",
            "('message', ChatCompletionMessage(content='card arrival', role='assistant', function_call=None, tool_calls=None))\n",
            "\n",
            "Response:  card arrival\n"
          ]
        }
      ],
      "source": [
        "prompt = create_prompt_example1(\"How do I know if I will get my card, or if it is lost?\")\n",
        "formatted_prompt = print_response(prompt)"
      ]
    },
    {
      "cell_type": "markdown",
      "metadata": {},
      "source": [
        "## Example #2"
      ]
    },
    {
      "cell_type": "markdown",
      "metadata": {},
      "source": [
        "### Zero Shot Learning"
      ]
    },
    {
      "cell_type": "code",
      "execution_count": 10,
      "metadata": {},
      "outputs": [
        {
          "name": "stdout",
          "output_type": "stream",
          "text": [
            "('finish_reason', 'stop')\n",
            "('index', 0)\n",
            "('logprobs', None)\n",
            "('message', ChatCompletionMessage(content=\"To calculate the average speed for the entire trip, you can use the formula:\\n\\nAverage speed = total distance / total time\\n\\nLet's assume the distance between point A and point B is D km.\\n\\nFor the first leg of the trip from point A to point B:\\nTime taken = D / 60\\n\\nFor the return trip from point B to point A:\\nTime taken = D / 40\\n\\nTotal distance for the entire trip = 2D (since the car travels the same distance in both directions)\\n\\nTotal time for the entire trip = D / 60 + D / 40\\n\\nNow, substitute these values into the formula:\\n\\nAverage speed = 2D / (D / 60 + D / 40)\\nAverage speed = 2D / (D * (1/60 + 1/40))\\nAverage speed = 2 / (1/60 + 1/40)\\nAverage speed = 2 / (1/24 + 1/24)\\nAverage speed = 2 / (2/24)\\nAverage speed = 2 / (1/12)\\nAverage speed = 24 km/h\\n\\nTherefore, the average speed for the entire trip is 24 km/h.\", role='assistant', function_call=None, tool_calls=None))\n",
            "\n",
            "Response:  To calculate the average speed for the entire trip, you can use the formula:\n",
            "\n",
            "Average speed = total distance / total time\n",
            "\n",
            "Let's assume the distance between point A and point B is D km.\n",
            "\n",
            "For the first leg of the trip from point A to point B:\n",
            "Time taken = D / 60\n",
            "\n",
            "For the return trip from point B to point A:\n",
            "Time taken = D / 40\n",
            "\n",
            "Total distance for the entire trip = 2D (since the car travels the same distance in both directions)\n",
            "\n",
            "Total time for the entire trip = D / 60 + D / 40\n",
            "\n",
            "Now, substitute these values into the formula:\n",
            "\n",
            "Average speed = 2D / (D / 60 + D / 40)\n",
            "Average speed = 2D / (D * (1/60 + 1/40))\n",
            "Average speed = 2 / (1/60 + 1/40)\n",
            "Average speed = 2 / (1/24 + 1/24)\n",
            "Average speed = 2 / (2/24)\n",
            "Average speed = 2 / (1/12)\n",
            "Average speed = 24 km/h\n",
            "\n",
            "Therefore, the average speed for the entire trip is 24 km/h.\n"
          ]
        },
        {
          "data": {
            "text/plain": [
              "<IPython.core.display.Markdown object>"
            ]
          },
          "metadata": {},
          "output_type": "display_data"
        }
      ],
      "source": [
        "from IPython.display import Markdown, display\n",
        "\n",
        "prompt = [{\"role\":\"system\",\"content\":[{\"type\":\"text\",\"text\":\"You are an AI assistant that answers user's queries.\"}]},\n",
        "          {\"role\":\"user\",\"content\":[{\"type\":\"text\",\"text\":\"A car travels from point A to point B at an average speed of 60 km/h and returns from point B to point A at an average speed of 40 km/h. What is the average speed for the entire trip?\"}]}]\n",
        "formatted_prompt = print_response(prompt)\n",
        "display(Markdown(formatted_prompt))"
      ]
    },
    {
      "cell_type": "markdown",
      "metadata": {},
      "source": [
        "### COT and Few Shot Learning"
      ]
    },
    {
      "cell_type": "code",
      "execution_count": 11,
      "metadata": {},
      "outputs": [],
      "source": [
        "def create_prompt_example2(prompt):\n",
        "    system_prompt = \"\"\"\n",
        "        You are an AI assistant tasked with solving math problems step-by-step. \n",
        "        Your task is to provide a detailed explanation of each step in the solution process, ensuring that the user can follow along easily.\n",
        "\n",
        "        ###\n",
        "        Here are some examples:\n",
        "\n",
        "        Problem: What is the sum of 8 and 12?\n",
        "        Steps:\n",
        "        1. Identify the numbers to be added: 8 and 12.\n",
        "        2. Add the numbers: 8 + 12.\n",
        "        3. Calculate the result: 20.\n",
        "        Answer: 20\n",
        "\n",
        "        Problem: How do you solve the equation 2x + 3 = 7?\n",
        "        Steps:\n",
        "        1. Identify the equation: 2x + 3 = 7.\n",
        "        2. Subtract 3 from both sides: 2x + 3 - 3 = 7 - 3.\n",
        "        3. Simplify: 2x = 4.\n",
        "        4. Divide both sides by 2: 2x / 2 = 4 / 2.\n",
        "        5. Simplify: x = 2.\n",
        "        Answer: x = 2\n",
        "        ###\n",
        "\n",
        "    \"\"\"\n",
        "    \n",
        "    user_prompt = f\"\"\"\n",
        "        <<<\n",
        "        Problem: {prompt}\n",
        "        Steps:\n",
        "    \"\"\"\n",
        "    \n",
        "    return [\n",
        "        {\n",
        "            \"role\": \"system\",\n",
        "            \"content\": [\n",
        "                {\n",
        "                    \"type\": \"text\",\n",
        "                    \"text\": system_prompt\n",
        "                }\n",
        "            ]\n",
        "        },\n",
        "        {\n",
        "            \"role\": \"user\",\n",
        "            \"content\": [\n",
        "                {\n",
        "                    \"type\": \"text\",\n",
        "                    \"text\": user_prompt\n",
        "                }\n",
        "            ]\n",
        "        },\n",
        "    ]\n"
      ]
    },
    {
      "cell_type": "code",
      "execution_count": 12,
      "metadata": {},
      "outputs": [
        {
          "name": "stdout",
          "output_type": "stream",
          "text": [
            "('finish_reason', 'stop')\n",
            "('index', 0)\n",
            "('logprobs', None)\n",
            "('message', ChatCompletionMessage(content=\"Steps:\\n1. Let's denote the distance between point A and point B as D (in kilometers).\\n2. Calculate the time taken to travel from A to B:\\n   - Time = Distance / Speed\\n   - Time = D / 60  (since the speed is 60 km/h)\\n   - Time = D / 60\\n3. Calculate the time taken to travel from B to A:\\n   - Time = Distance / Speed\\n   - Time = D / 40  (since the speed is 40 km/h)\\n   - Time = D / 40\\n4. The total time for the entire trip (to and fro) is the sum of the time taken to travel from A to B and from B to A:\\n   - Total Time = D / 60 + D / 40\\n   - Total Time = (2D + 3D) / 120  (finding a common denominator)\\n   - Total Time = 5D / 120\\n5. Calculate the average speed for the entire trip:\\n   - Average Speed = Total Distance / Total Time\\n   - Average Speed = 2D / (5D / 120)  (as the total distance is 2D)\\n   - Average Speed = 2D * 120 / 5D\\n   - Average Speed = 240 / 5\\n6. Simplify the average speed:\\n   - Average Speed = 48 km/h\\n\\nAnswer: The average speed for the entire trip is 48 km/h.\", role='assistant', function_call=None, tool_calls=None))\n",
            "\n",
            "Response:  Steps:\n",
            "1. Let's denote the distance between point A and point B as D (in kilometers).\n",
            "2. Calculate the time taken to travel from A to B:\n",
            "   - Time = Distance / Speed\n",
            "   - Time = D / 60  (since the speed is 60 km/h)\n",
            "   - Time = D / 60\n",
            "3. Calculate the time taken to travel from B to A:\n",
            "   - Time = Distance / Speed\n",
            "   - Time = D / 40  (since the speed is 40 km/h)\n",
            "   - Time = D / 40\n",
            "4. The total time for the entire trip (to and fro) is the sum of the time taken to travel from A to B and from B to A:\n",
            "   - Total Time = D / 60 + D / 40\n",
            "   - Total Time = (2D + 3D) / 120  (finding a common denominator)\n",
            "   - Total Time = 5D / 120\n",
            "5. Calculate the average speed for the entire trip:\n",
            "   - Average Speed = Total Distance / Total Time\n",
            "   - Average Speed = 2D / (5D / 120)  (as the total distance is 2D)\n",
            "   - Average Speed = 2D * 120 / 5D\n",
            "   - Average Speed = 240 / 5\n",
            "6. Simplify the average speed:\n",
            "   - Average Speed = 48 km/h\n",
            "\n",
            "Answer: The average speed for the entire trip is 48 km/h.\n"
          ]
        },
        {
          "data": {
            "text/plain": [
              "<IPython.core.display.Markdown object>"
            ]
          },
          "metadata": {},
          "output_type": "display_data"
        }
      ],
      "source": [
        "from IPython.display import Markdown, display\n",
        "\n",
        "prompt = create_prompt_example2(\"A car travels from point A to point B at an average speed of 60 km/h and returns from point B to point A at an average speed of 40 km/h. What is the average speed for the entire trip?\")\n",
        "formatted_prompt = print_response(prompt)\n",
        "display(Markdown(formatted_prompt))"
      ]
    }
  ],
  "metadata": {
    "colab": {
      "provenance": []
    },
    "kernelspec": {
      "display_name": ".venv",
      "language": "python",
      "name": "python3"
    },
    "language_info": {
      "codemirror_mode": {
        "name": "ipython",
        "version": 3
      },
      "file_extension": ".py",
      "mimetype": "text/x-python",
      "name": "python",
      "nbconvert_exporter": "python",
      "pygments_lexer": "ipython3",
      "version": "3.10.11"
    }
  },
  "nbformat": 4,
  "nbformat_minor": 0
}

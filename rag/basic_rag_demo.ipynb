{
  "cells": [
    {
      "cell_type": "markdown",
      "metadata": {},
      "source": [
        "<a href=\"https://colab.research.google.com/github/Farhad-Davaripour/Navigating_GenAI/blob/main/rag/basic_rag_demo.ipynb\" target=\"_parent\">\n",
        "    <img src=\"https://colab.research.google.com/assets/colab-badge.svg\" alt=\"Open in Colab\"/>\n",
        "</a>"
      ]
    },
    {
      "cell_type": "code",
      "execution_count": 1,
      "metadata": {
        "colab": {
          "base_uri": "https://localhost:8080/"
        },
        "id": "usy2Lt43wFRF",
        "outputId": "9254a1cd-e527-45ae-ae05-e0b4b1e05021"
      },
      "outputs": [
        {
          "name": "stdout",
          "output_type": "stream",
          "text": [
            "Installing collected packages: PyPDF2, h11, httpcore, httpx, openai\n",
            "Successfully installed PyPDF2-3.0.1 h11-0.14.0 httpcore-1.0.5 httpx-0.27.0 openai-1.30.1\n"
          ]
        }
      ],
      "source": [
        "# Install necessary libraries\n",
        "%pip install openai numpy scikit-learn PyPDF2\n",
        "%pip install openai openai"
      ]
    },
    {
      "cell_type": "code",
      "execution_count": 3,
      "metadata": {
        "id": "43CclUHywFRI"
      },
      "outputs": [],
      "source": [
        "import os\n",
        "from openai import OpenAI\n",
        "import numpy as np\n",
        "from sklearn.metrics.pairwise import cosine_similarity\n",
        "import PyPDF2\n",
        "\n",
        "OPENAI_API_KEY=\"\"\n",
        "\n",
        "client = OpenAI(\n",
        "  api_key=OPENAI_API_KEY\n",
        ")"
      ]
    },
    {
      "cell_type": "code",
      "execution_count": 4,
      "metadata": {
        "colab": {
          "base_uri": "https://localhost:8080/"
        },
        "id": "2ZyGLb_2xHDt",
        "outputId": "272999c3-c967-497b-fa27-850fa1cb565f"
      },
      "outputs": [
        {
          "name": "stdout",
          "output_type": "stream",
          "text": [
            "Mounted at /content/drive\n"
          ]
        }
      ],
      "source": [
        "from google.colab import drive\n",
        "drive.mount('/content/drive')"
      ]
    },
    {
      "cell_type": "code",
      "execution_count": 22,
      "metadata": {
        "colab": {
          "base_uri": "https://localhost:8080/"
        },
        "id": "VDP4e9-VxL8m",
        "outputId": "205cf6e7-22b1-4f88-b720-587e6776421d"
      },
      "outputs": [
        {
          "name": "stdout",
          "output_type": "stream",
          "text": [
            "--2024-05-21 11:08:53--  https://raw.githubusercontent.com/Farhad-Davaripour/Navigating_GenAI/main/docs/made_up_terms.pdf\n",
            "Resolving raw.githubusercontent.com (raw.githubusercontent.com)... 185.199.110.133, 185.199.108.133, 185.199.111.133, ...\n",
            "Connecting to raw.githubusercontent.com (raw.githubusercontent.com)|185.199.110.133|:443... connected.\n",
            "HTTP request sent, awaiting response... 200 OK\n",
            "Length: 2646 (2.6K) [application/octet-stream]\n",
            "Saving to: ‘/content/made_up_terms.pdf’\n",
            "\n",
            "\rmade_up_terms.pdf     0%[                    ]       0  --.-KB/s               \rmade_up_terms.pdf   100%[===================>]   2.58K  --.-KB/s    in 0s      \n",
            "\n",
            "2024-05-21 11:08:53 (34.0 MB/s) - ‘/content/made_up_terms.pdf’ saved [2646/2646]\n",
            "\n",
            "File downloaded and moved to /content/drive/My Drive/Navigating_GenAI_RAG/\n"
          ]
        }
      ],
      "source": [
        "from google.colab import files\n",
        "import shutil\n",
        "\n",
        "# Specify the folder path in your Google Drive where you want to save the file\n",
        "folder_path = '/content/drive/My Drive/Navigating_GenAI_RAG/'  # Change 'your_folder_name' to your target folder name\n",
        "\n",
        "# Create the folder if it doesn't exist\n",
        "if not os.path.exists(folder_path):\n",
        "    os.makedirs(folder_path)\n",
        "\n",
        "# URL of the file to be downloaded\n",
        "file_url = 'https://raw.githubusercontent.com/Farhad-Davaripour/Navigating_GenAI/main/docs/made_up_terms.pdf'\n",
        "\n",
        "# Download the file using wget\n",
        "!wget -P /content/ $file_url\n",
        "\n",
        "# Extract the file name from the URL\n",
        "file_name = file_url.split('/')[-1]\n",
        "\n",
        "# Move the downloaded file to the specified folder in Google Drive\n",
        "shutil.move(f'/content/{file_name}', folder_path + file_name)\n",
        "\n",
        "print(f\"File downloaded and moved to {folder_path}\")"
      ]
    },
    {
      "cell_type": "code",
      "execution_count": 23,
      "metadata": {
        "id": "lNY1jdguwFRI"
      },
      "outputs": [],
      "source": [
        "# Function to read text from a PDF\n",
        "def read_pdf(file_path):\n",
        "    text = \"\"\n",
        "    with open(file_path, 'rb') as file:\n",
        "        reader = PyPDF2.PdfReader(file)\n",
        "        for page_num in range(len(reader.pages)):\n",
        "            page = reader.pages[page_num]\n",
        "            text += page.extract_text()\n",
        "    return text\n",
        "\n",
        "# Load text from a PDF\n",
        "pdf_text = read_pdf(folder_path + file_name)"
      ]
    },
    {
      "cell_type": "code",
      "execution_count": 24,
      "metadata": {
        "colab": {
          "base_uri": "https://localhost:8080/"
        },
        "id": "ehpSmq8dwFRJ",
        "outputId": "2a1f9428-bec1-4b3b-8ac0-bed47d70afc9"
      },
      "outputs": [
        {
          "name": "stdout",
          "output_type": "stream",
          "text": [
            "Text length:\n",
            "1952\n",
            "\n",
            "First 100 char:\n",
            "Quarintium Drift in Quantum Computing\n",
            "In the field of quantum computing, researchers have recently d\n"
          ]
        }
      ],
      "source": [
        "print(f\"Text length:\\n{len(pdf_text)}\\n\")\n",
        "print(f\"First 100 char:\\n{pdf_text[:100]}\")"
      ]
    },
    {
      "cell_type": "code",
      "execution_count": 25,
      "metadata": {
        "id": "I_V8vJwvwFRJ"
      },
      "outputs": [],
      "source": [
        "# Function to split text into chunks with overlap\n",
        "def split_text(text, chunk_size=400, overlap=20):\n",
        "    chunks = []\n",
        "    for i in range(0, len(text), chunk_size - overlap):\n",
        "        chunk = text[i:i + chunk_size]\n",
        "        if len(chunk) > 0:\n",
        "            chunks.append(chunk)\n",
        "    return chunks\n",
        "\n",
        "# Split text into chunks\n",
        "chunks = split_text(pdf_text)"
      ]
    },
    {
      "cell_type": "code",
      "execution_count": 26,
      "metadata": {
        "colab": {
          "base_uri": "https://localhost:8080/"
        },
        "id": "invgR0M0wFRJ",
        "outputId": "3393954b-f98f-40bf-8264-c0d6decfce04"
      },
      "outputs": [
        {
          "name": "stdout",
          "output_type": "stream",
          "text": [
            "Chunks length:\n",
            "6\n",
            "\n",
            "First chunk:\n",
            "Quarintium Drift in Quantum Computing\n",
            "In the field of quantum computing, researchers have recently discovered a phenomenon they call\n",
            "Quarintium Drift. This phenomenon occurs when particles within a quantum system experience an\n",
            "unexpected shift in their state, resulting in unpredictable outcomes during computation. The\n",
            "Quarintium Drift has perplexed scientists due to its seemingly random nature, ye\n"
          ]
        }
      ],
      "source": [
        "print(f\"Chunks length:\\n{len(chunks)}\\n\")\n",
        "print(f\"First chunk:\\n{chunks[0]}\")"
      ]
    },
    {
      "cell_type": "code",
      "execution_count": 27,
      "metadata": {
        "id": "6peeb-1PwFRK"
      },
      "outputs": [],
      "source": [
        "# Function to create embeddings using OpenAI API\n",
        "def create_embeddings(chunks):\n",
        "    embeddings = []\n",
        "    for chunk in chunks:\n",
        "        response = client.embeddings.create(\n",
        "            input=chunk,\n",
        "            model=\"text-embedding-ada-002\"  # Choose the appropriate embedding model\n",
        "        )\n",
        "        embeddings.append(response.data[0].embedding)\n",
        "    return np.array(embeddings)\n",
        "\n",
        "# Create embeddings for the chunks\n",
        "chunk_embeddings = create_embeddings(chunks)"
      ]
    },
    {
      "cell_type": "code",
      "execution_count": 28,
      "metadata": {
        "id": "xnLoWpE2wFRK"
      },
      "outputs": [],
      "source": [
        "# Function to perform vector search\n",
        "def vector_search(query, chunk_embeddings, chunks, top_k):\n",
        "    query_embedding = create_embeddings([query])[0]\n",
        "    similarities = cosine_similarity([query_embedding], chunk_embeddings)[0]\n",
        "    top_k_indices = similarities.argsort()[-top_k:][::-1]\n",
        "    return [chunks[i] for i in top_k_indices]\n",
        "\n",
        "# Example query\n",
        "query = \"what is Quarintium Drift in Quantum Computing?\"\n",
        "\n",
        "# Perform vector search\n",
        "top_k = 1\n",
        "relevant_chunks = vector_search(query, chunk_embeddings, chunks, top_k)"
      ]
    },
    {
      "cell_type": "code",
      "execution_count": 29,
      "metadata": {
        "colab": {
          "base_uri": "https://localhost:8080/"
        },
        "id": "iDCRN0E_wFRK",
        "outputId": "b2fccce3-f988-47a9-f904-aaefcc45e247"
      },
      "outputs": [
        {
          "name": "stdout",
          "output_type": "stream",
          "text": [
            "Prompt:\n",
            "[{'role': 'system', 'content': [{'type': 'text', 'text': \"You are an AI assistant that provides answer to the user's query solely based on the provided content.\"}]}, {'role': 'user', 'content': [{'type': 'text', 'text': 'Based on the following information:\\nQuarintium Drift in Quantum Computing\\nIn the field of quantum computing, researchers have recently discovered a phenomenon they call\\nQuarintium Drift. This phenomenon occurs when particles within a quantum system experience an\\nunexpected shift in their state, resulting in unpredictable outcomes during computation. The\\nQuarintium Drift has perplexed scientists due to its seemingly random nature, ye\\n\\nAnswer the following question:\\nwhat is Quarintium Drift in Quantum Computing?'}]}]\n",
            "\n"
          ]
        }
      ],
      "source": [
        "# Generate response using the language model\n",
        "context = \"\\n\".join(relevant_chunks)\n",
        "prompt=[\n",
        "    {\n",
        "    \"role\": \"system\",\n",
        "    \"content\": [\n",
        "        {\n",
        "        \"type\": \"text\",\n",
        "        \"text\": \"You are an AI assistant that provides answer to the user's query solely based on the provided content.\"\n",
        "        }\n",
        "    ]\n",
        "    },\n",
        "    {\n",
        "    \"role\": \"user\",\n",
        "    \"content\": [\n",
        "        {\n",
        "        \"type\": \"text\",\n",
        "        \"text\": f\"Based on the following information:\\n{context}\\n\\nAnswer the following question:\\n{query}\"\n",
        "        }\n",
        "    ]\n",
        "    },\n",
        "]\n",
        "print(f\"Prompt:\\n{prompt}\\n\")"
      ]
    },
    {
      "cell_type": "code",
      "execution_count": 30,
      "metadata": {
        "id": "0qkIDUTVwFRL"
      },
      "outputs": [],
      "source": [
        "response = client.chat.completions.create(\n",
        "    model=\"gpt-4o\",  # Replace with the appropriate model name\n",
        "    messages=prompt,\n",
        "    max_tokens=150\n",
        ")"
      ]
    },
    {
      "cell_type": "code",
      "execution_count": 35,
      "metadata": {
        "colab": {
          "base_uri": "https://localhost:8080/"
        },
        "id": "khseaeOvwFRL",
        "outputId": "0ff7b8bf-d0d9-432f-ffd1-2bc69d7dbb4a"
      },
      "outputs": [
        {
          "name": "stdout",
          "output_type": "stream",
          "text": [
            "Quarintium Drift in quantum computing is a recently discovered phenomenon where particles within a quantum system experience an unexpected shift in\n",
            "their state. This shift results in unpredictable outcomes during computation, and the random nature of this drift has perplexed scientists.\n"
          ]
        }
      ],
      "source": [
        "def format_text(text, max_words_per_line=21):\n",
        "    words = text.split()\n",
        "    lines = []\n",
        "    for i in range(0, len(words), max_words_per_line):\n",
        "        line = \" \".join(words[i:i + max_words_per_line])\n",
        "        lines.append(line)\n",
        "    return \"\\n\".join(lines)\n",
        "\n",
        "response_text = response.choices[0].message.content\n",
        "print(format_text(response_text))"
      ]
    }
  ],
  "metadata": {
    "colab": {
      "provenance": []
    },
    "kernelspec": {
      "display_name": ".venv",
      "language": "python",
      "name": "python3"
    },
    "language_info": {
      "codemirror_mode": {
        "name": "ipython",
        "version": 3
      },
      "file_extension": ".py",
      "mimetype": "text/x-python",
      "name": "python",
      "nbconvert_exporter": "python",
      "pygments_lexer": "ipython3",
      "version": "3.10.11"
    }
  },
  "nbformat": 4,
  "nbformat_minor": 0
}

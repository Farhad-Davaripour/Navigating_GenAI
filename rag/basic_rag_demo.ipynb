{
 "cells": [
  {
   "cell_type": "code",
   "execution_count": 1,
   "metadata": {},
   "outputs": [
    {
     "name": "stdout",
     "output_type": "stream",
     "text": [
      "Note: you may need to restart the kernel to use updated packages.\n"
     ]
    }
   ],
   "source": [
    "# Install necessary libraries\n",
    "%pip install openai numpy scikit-learn PyPDF2"
   ]
  },
  {
   "cell_type": "code",
   "execution_count": 42,
   "metadata": {},
   "outputs": [],
   "source": [
    "import os\n",
    "from openai import OpenAI\n",
    "import numpy as np\n",
    "from sklearn.metrics.pairwise import cosine_similarity\n",
    "import PyPDF2\n",
    "\n",
    "OPENAI_API_KEY=\"\"\n",
    "\n",
    "client = OpenAI(\n",
    "  api_key=os.environ['OPENAI_API_KEY'],  # this is also the default, it can be omitted\n",
    ")"
   ]
  },
  {
   "cell_type": "code",
   "execution_count": 6,
   "metadata": {},
   "outputs": [],
   "source": [
    "# Function to read text from a PDF\n",
    "def read_pdf(file_path):\n",
    "    text = \"\"\n",
    "    with open(file_path, 'rb') as file:\n",
    "        reader = PyPDF2.PdfReader(file)\n",
    "        for page_num in range(len(reader.pages)):\n",
    "            page = reader.pages[page_num]\n",
    "            text += page.extract_text()\n",
    "    return text\n",
    "\n",
    "# Load text from a PDF\n",
    "pdf_text = read_pdf(\"path_to_pdf_file.pdf\")"
   ]
  },
  {
   "cell_type": "code",
   "execution_count": 18,
   "metadata": {},
   "outputs": [
    {
     "name": "stdout",
     "output_type": "stream",
     "text": [
      "Text length:\n",
      "1952\n",
      "\n",
      "First 100 char:\n",
      "Quarintium Drift in Quantum Computing\n",
      "In the field of quantum computing, researchers have recently d\n"
     ]
    }
   ],
   "source": [
    "print(f\"Text length:\\n{len(pdf_text)}\\n\")\n",
    "print(f\"First 100 char:\\n{pdf_text[:100]}\")"
   ]
  },
  {
   "cell_type": "code",
   "execution_count": 34,
   "metadata": {},
   "outputs": [],
   "source": [
    "# Function to split text into chunks with overlap\n",
    "def split_text(text, chunk_size=400, overlap=20):\n",
    "    chunks = []\n",
    "    for i in range(0, len(text), chunk_size - overlap):\n",
    "        chunk = text[i:i + chunk_size]\n",
    "        if len(chunk) > 0:\n",
    "            chunks.append(chunk)\n",
    "    return chunks\n",
    "\n",
    "# Split text into chunks\n",
    "chunks = split_text(pdf_text)"
   ]
  },
  {
   "cell_type": "code",
   "execution_count": 35,
   "metadata": {},
   "outputs": [
    {
     "name": "stdout",
     "output_type": "stream",
     "text": [
      "Chunks length:\n",
      "6\n",
      "\n",
      "First chunk:\n",
      "Quarintium Drift in Quantum Computing\n",
      "In the field of quantum computing, researchers have recently discovered a phenomenon they call\n",
      "Quarintium Drift. This phenomenon occurs when particles within a quantum system experience an\n",
      "unexpected shift in their state, resulting in unpredictable outcomes during computation. The\n",
      "Quarintium Drift has perplexed scientists due to its seemingly random nature, ye\n"
     ]
    }
   ],
   "source": [
    "print(f\"Chunks length:\\n{len(chunks)}\\n\")\n",
    "print(f\"First chunk:\\n{chunks[0]}\")"
   ]
  },
  {
   "cell_type": "code",
   "execution_count": 57,
   "metadata": {},
   "outputs": [],
   "source": [
    "# Function to create embeddings using OpenAI API\n",
    "def create_embeddings(chunks):\n",
    "    embeddings = []\n",
    "    for chunk in chunks:\n",
    "        response = client.embeddings.create(\n",
    "            input=chunk,\n",
    "            model=\"text-embedding-ada-002\"  # Choose the appropriate embedding model\n",
    "        )\n",
    "        embeddings.append(response.data[0].embedding)\n",
    "    return np.array(embeddings)\n",
    "\n",
    "# Create embeddings for the chunks\n",
    "chunk_embeddings = create_embeddings(chunks)"
   ]
  },
  {
   "cell_type": "code",
   "execution_count": 67,
   "metadata": {},
   "outputs": [],
   "source": [
    "# Function to perform vector search\n",
    "def vector_search(query, chunk_embeddings, chunks, top_k):\n",
    "    query_embedding = create_embeddings([query])[0]\n",
    "    similarities = cosine_similarity([query_embedding], chunk_embeddings)[0]\n",
    "    top_k_indices = similarities.argsort()[-top_k:][::-1]\n",
    "    return [chunks[i] for i in top_k_indices]\n",
    "\n",
    "# Example query\n",
    "query = \"what is Quarintium Drift in Quantum Computing?\"\n",
    "\n",
    "# Perform vector search\n",
    "top_k = 1\n",
    "relevant_chunks = vector_search(query, chunk_embeddings, chunks, top_k)"
   ]
  },
  {
   "cell_type": "code",
   "execution_count": 74,
   "metadata": {},
   "outputs": [
    {
     "name": "stdout",
     "output_type": "stream",
     "text": [
      "Prompt:\n",
      "[{'role': 'system', 'content': [{'type': 'text', 'text': \"You are an AI assistant that provides answer to the user's query solely based on the provided content.\"}]}, {'role': 'user', 'content': [{'type': 'text', 'text': 'Based on the following information:\\nQuarintium Drift in Quantum Computing\\nIn the field of quantum computing, researchers have recently discovered a phenomenon they call\\nQuarintium Drift. This phenomenon occurs when particles within a quantum system experience an\\nunexpected shift in their state, resulting in unpredictable outcomes during computation. The\\nQuarintium Drift has perplexed scientists due to its seemingly random nature, ye\\n\\nAnswer the following question:\\nwhat is Quarintium Drift in Quantum Computing?'}]}]\n",
      "\n"
     ]
    }
   ],
   "source": [
    "# Generate response using the language model\n",
    "context = \"\\n\".join(relevant_chunks)\n",
    "prompt=[\n",
    "    {\n",
    "    \"role\": \"system\",\n",
    "    \"content\": [\n",
    "        {\n",
    "        \"type\": \"text\",\n",
    "        \"text\": \"You are an AI assistant that provides answer to the user's query solely based on the provided content.\"\n",
    "        }\n",
    "    ]\n",
    "    },\n",
    "    {\n",
    "    \"role\": \"user\",\n",
    "    \"content\": [\n",
    "        {\n",
    "        \"type\": \"text\",\n",
    "        \"text\": f\"Based on the following information:\\n{context}\\n\\nAnswer the following question:\\n{query}\"\n",
    "        }\n",
    "    ]\n",
    "    },\n",
    "]\n",
    "print(f\"Prompt:\\n{prompt}\\n\")"
   ]
  },
  {
   "cell_type": "code",
   "execution_count": 77,
   "metadata": {},
   "outputs": [],
   "source": [
    "response = client.chat.completions.create(\n",
    "    model=\"gpt-4o\",  # Replace with the appropriate model name\n",
    "    messages=prompt,\n",
    "    max_tokens=150\n",
    ")"
   ]
  },
  {
   "cell_type": "code",
   "execution_count": 90,
   "metadata": {},
   "outputs": [
    {
     "name": "stdout",
     "output_type": "stream",
     "text": [
      "Quarintium Drift in Quantum Computing is a phenomenon where particles within a quantum system experience\n",
      "an unexpected shift in their state, leading to unpredictable outcomes during computation. It is characterized\n",
      "by its seemingly random nature, perplexing scientists.\n"
     ]
    }
   ],
   "source": [
    "def format_text(text, max_words_per_line=15):\n",
    "    words = text.split()\n",
    "    lines = []\n",
    "    for i in range(0, len(words), max_words_per_line):\n",
    "        line = \" \".join(words[i:i + max_words_per_line])\n",
    "        lines.append(line)\n",
    "    return \"\\n\".join(lines)\n",
    "\n",
    "response_text = response.choices[0].message.content\n",
    "print(format_text(response_text))"
   ]
  }
 ],
 "metadata": {
  "kernelspec": {
   "display_name": ".venv",
   "language": "python",
   "name": "python3"
  },
  "language_info": {
   "codemirror_mode": {
    "name": "ipython",
    "version": 3
   },
   "file_extension": ".py",
   "mimetype": "text/x-python",
   "name": "python",
   "nbconvert_exporter": "python",
   "pygments_lexer": "ipython3",
   "version": "3.10.11"
  }
 },
 "nbformat": 4,
 "nbformat_minor": 2
}
